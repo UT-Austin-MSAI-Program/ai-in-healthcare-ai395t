{
 "cells": [
  {
   "cell_type": "markdown",
   "metadata": {},
   "source": [
    "# MIMIC Dataset Analysis"
   ]
  },
  {
   "cell_type": "markdown",
   "metadata": {},
   "source": [
    "### Import data & libraries"
   ]
  },
  {
   "cell_type": "code",
   "execution_count": 7,
   "metadata": {},
   "outputs": [
    {
     "name": "stdout",
     "output_type": "stream",
     "text": [
      "Collecting pandasNote: you may need to restart the kernel to use updated packages.\n",
      "\n",
      "  Obtaining dependency information for pandas from https://files.pythonhosted.org/packages/ed/8c/87ddf1fcb55d11f9f847e3c69bb1c6f8e46e2f40ab1a2d2abadb2401b007/pandas-2.2.3-cp311-cp311-win_amd64.whl.metadata\n",
      "  Downloading pandas-2.2.3-cp311-cp311-win_amd64.whl.metadata (19 kB)\n"
     ]
    },
    {
     "name": "stderr",
     "output_type": "stream",
     "text": [
      "ERROR: Could not find a version that satisfies the requirement quiet (from versions: none)\n",
      "ERROR: No matching distribution found for quiet\n",
      "\n",
      "[notice] A new release of pip is available: 23.2.1 -> 24.3.1\n",
      "[notice] To update, run: python.exe -m pip install --upgrade pip\n"
     ]
    },
    {
     "ename": "ModuleNotFoundError",
     "evalue": "No module named 'pandas'",
     "output_type": "error",
     "traceback": [
      "\u001b[1;31m---------------------------------------------------------------------------\u001b[0m",
      "\u001b[1;31mModuleNotFoundError\u001b[0m                       Traceback (most recent call last)",
      "Cell \u001b[1;32mIn[7], line 4\u001b[0m\n\u001b[0;32m      1\u001b[0m dataset_dir \u001b[38;5;241m=\u001b[39m \u001b[38;5;124m\"\u001b[39m\u001b[38;5;124m../mimic-iii-clinical-database-1.4\u001b[39m\u001b[38;5;124m\"\u001b[39m\n\u001b[0;32m      3\u001b[0m get_ipython()\u001b[38;5;241m.\u001b[39mrun_line_magic(\u001b[38;5;124m'\u001b[39m\u001b[38;5;124mpip\u001b[39m\u001b[38;5;124m'\u001b[39m, \u001b[38;5;124m'\u001b[39m\u001b[38;5;124minstall pandas --upgrade quiet\u001b[39m\u001b[38;5;124m'\u001b[39m)\n\u001b[1;32m----> 4\u001b[0m \u001b[38;5;28;01mimport\u001b[39;00m\u001b[38;5;250m \u001b[39m\u001b[38;5;21;01mpandas\u001b[39;00m\u001b[38;5;250m \u001b[39m\u001b[38;5;28;01mas\u001b[39;00m\u001b[38;5;250m \u001b[39m\u001b[38;5;21;01mpd\u001b[39;00m\n\u001b[0;32m      5\u001b[0m \u001b[38;5;28;01mimport\u001b[39;00m\u001b[38;5;250m \u001b[39m\u001b[38;5;21;01mnumpy\u001b[39;00m\u001b[38;5;250m \u001b[39m\u001b[38;5;28;01mas\u001b[39;00m\u001b[38;5;250m \u001b[39m\u001b[38;5;21;01mnp\u001b[39;00m\n\u001b[0;32m      6\u001b[0m \u001b[38;5;28;01mimport\u001b[39;00m\u001b[38;5;250m \u001b[39m\u001b[38;5;21;01mos\u001b[39;00m\n",
      "\u001b[1;31mModuleNotFoundError\u001b[0m: No module named 'pandas'"
     ]
    }
   ],
   "source": [
    "dataset_dir = \"../mimic-iii-clinical-database-1.4\"\n",
    "\n",
    "import pandas as pd\n",
    "import numpy as np\n",
    "import os\n",
    "import matplotlib.pyplot as plt\n",
    "import seaborn as sns\n",
    "\n"
   ]
  },
  {
   "cell_type": "code",
   "execution_count": 5,
   "metadata": {},
   "outputs": [
    {
     "data": {
      "text/plain": [
       "['ADMISSIONS.csv.gz',\n",
       " 'CALLOUT.csv.gz',\n",
       " 'CAREGIVERS.csv.gz',\n",
       " 'CHARTEVENTS.csv.gz',\n",
       " 'checksum_md5_unzipped.txt',\n",
       " 'checksum_md5_zipped.txt',\n",
       " 'CPTEVENTS.csv.gz',\n",
       " 'DATETIMEEVENTS.csv.gz',\n",
       " 'DIAGNOSES_ICD.csv.gz',\n",
       " 'DRGCODES.csv.gz',\n",
       " 'D_CPT.csv.gz',\n",
       " 'D_ICD_DIAGNOSES.csv.gz',\n",
       " 'D_ICD_PROCEDURES.csv.gz',\n",
       " 'D_ITEMS.csv.gz',\n",
       " 'D_LABITEMS.csv.gz',\n",
       " 'ICUSTAYS.csv.gz',\n",
       " 'INPUTEVENTS_CV.csv.gz',\n",
       " 'INPUTEVENTS_MV.csv.gz',\n",
       " 'LABEVENTS.csv.gz',\n",
       " 'LICENSE.txt',\n",
       " 'MICROBIOLOGYEVENTS.csv.gz',\n",
       " 'NOTEEVENTS.csv.gz',\n",
       " 'OUTPUTEVENTS.csv.gz',\n",
       " 'PATIENTS.csv.gz',\n",
       " 'PRESCRIPTIONS.csv.gz',\n",
       " 'PROCEDUREEVENTS_MV.csv.gz',\n",
       " 'PROCEDURES_ICD.csv.gz',\n",
       " 'README.md',\n",
       " 'SERVICES.csv.gz',\n",
       " 'SHA256SUMS.txt',\n",
       " 'TRANSFERS.csv.gz']"
      ]
     },
     "execution_count": 5,
     "metadata": {},
     "output_type": "execute_result"
    }
   ],
   "source": [
    "import os\n",
    "os.listdir(dataset_dir)"
   ]
  },
  {
   "cell_type": "code",
   "execution_count": 4,
   "metadata": {},
   "outputs": [
    {
     "name": "stdout",
     "output_type": "stream",
     "text": [
      "\"ROW_ID\",\"SUBJECT_ID\",\"HADM_ID\",\"ADMITTIME\",\"DISCHTIME\",\"DEATHTIME\",\"ADMISSION_TYPE\",\"ADMISSION_LOCATION\",\"DISCHARGE_LOCATION\",\"INSURANCE\",\"LANGUAGE\",\"RELIGION\",\"MARITAL_STATUS\",\"ETHNICITY\",\"EDREGTIME\",\"EDOUTTIME\",\"DIAGNOSIS\",\"HOSPITAL_EXPIRE_FLAG\",\"HAS_CHARTEVENTS_DATA\"\n",
      "21,22,165315,2196-04-09 12:26:00,2196-04-10 15:54:00,,\"EMERGENCY\",\"EMERGENCY ROOM ADMIT\",\"DISC-TRAN CANCER/CHLDRN H\",\"Private\",,\"UNOBTAINABLE\",\"MARRIED\",\"WHITE\",2196-04-09 10:06:00,2196-04-09 13:24:00,\"BENZODIAZEPINE OVERDOSE\",0,1\n",
      "22,23,152223,2153-09-03 07:15:00,2153-09-08 19:10:00,,\"ELECTIVE\",\"PHYS REFERRAL/NORMAL DELI\",\"HOME HEALTH CARE\",\"Medicare\",,\"CATHOLIC\",\"MARRIED\",\"WHITE\",,,\"CORONARY ARTERY DISEASE\\CORONARY ARTERY BYPASS GRAFT/SDA\",0,1\n",
      "23,23,124321,2157-10-18 19:34:00,2157-10-25 14:00:00,,\"EMERGENCY\",\"TRANSFER FROM HOSP/EXTRAM\",\"HOME HEALTH CARE\",\"Medicare\",\"ENGL\",\"CATHOLIC\",\"MARRIED\",\"WHITE\",,,\"BRAIN MASS\",0,1\n",
      "24,24,161859,2139-06-06 16:14:00,2139-06-09 12:48:00,,\"EMERGENCY\",\"TRANSFER FROM HOSP/EXTRAM\",\"HOME\"\n"
     ]
    }
   ],
   "source": [
    "import gzip\n",
    "\n",
    "with gzip.open(os.path.join(dataset_dir, \"ADMISSIONS.csv.gz\"), \"rt\") as f:\n",
    "    print(f.read(1000))"
   ]
  }
 ],
 "metadata": {
  "kernelspec": {
   "display_name": "Python 3",
   "language": "python",
   "name": "python3"
  },
  "language_info": {
   "codemirror_mode": {
    "name": "ipython",
    "version": 3
   },
   "file_extension": ".py",
   "mimetype": "text/x-python",
   "name": "python",
   "nbconvert_exporter": "python",
   "pygments_lexer": "ipython3",
   "version": "3.11.5"
  }
 },
 "nbformat": 4,
 "nbformat_minor": 2
}
