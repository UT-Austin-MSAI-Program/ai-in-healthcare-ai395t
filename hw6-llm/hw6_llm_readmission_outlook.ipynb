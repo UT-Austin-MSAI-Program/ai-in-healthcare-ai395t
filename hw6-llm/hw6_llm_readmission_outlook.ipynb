{
 "cells": [
  {
   "cell_type": "markdown",
   "id": "f2f97003",
   "metadata": {},
   "source": [
    "# Studying Hospital Readmission Risk with Synthetic Patient Data\n",
    "\n",
    "### Source: synthea.mitre.org\n",
    "\n",
    "### Dataset: 100 Sample Synthetic Patient Records, CSV: 7 MB"
   ]
  },
  {
   "cell_type": "markdown",
   "id": "bc8af96b",
   "metadata": {},
   "source": [
    "## Libraries & Setup"
   ]
  },
  {
   "cell_type": "code",
   "execution_count": 96,
   "id": "7abf7a01",
   "metadata": {},
   "outputs": [],
   "source": [
    "# Load required libraries\n",
    "import pandas as pd\n",
    "from datetime import datetime\n",
    "# Load required libraries for API requests\n",
    "import requests\n",
    "import json\n",
    "# Load operating system library & utils\n",
    "import os\n",
    "import textwrap\n",
    "import shutil\n",
    "\n",
    "# Get the width of the console window (for formatting)\n",
    "console_width = shutil.get_terminal_size().columns"
   ]
  },
  {
   "cell_type": "markdown",
   "id": "76b66641",
   "metadata": {},
   "source": [
    "## Load and Explore Patient Data"
   ]
  },
  {
   "cell_type": "code",
   "execution_count": 97,
   "id": "d15628b8",
   "metadata": {},
   "outputs": [
    {
     "name": "stdout",
     "output_type": "stream",
     "text": [
      "Patients: (1163, 25)\n",
      "Encounters: (61459, 15)\n",
      "Conditions: (38094, 6)\n",
      "Medications: (56430, 13)\n"
     ]
    }
   ],
   "source": [
    "# Local data folder\n",
    "data_path = 'synthea_sample_data_csv'  \n",
    "\n",
    "# Load relevant CSVs\n",
    "patients_df = pd.read_csv(os.path.join(data_path, 'patients.csv'))\n",
    "encounters_df = pd.read_csv(os.path.join(data_path, 'encounters.csv'))\n",
    "conditions_df = pd.read_csv(os.path.join(data_path, 'conditions.csv'))\n",
    "medications_df = pd.read_csv(os.path.join(data_path, 'medications.csv'))\n",
    "\n",
    "# Preview the datasets\n",
    "print(\"Patients:\", patients_df.shape)\n",
    "print(\"Encounters:\", encounters_df.shape)\n",
    "print(\"Conditions:\", conditions_df.shape)\n",
    "print(\"Medications:\", medications_df.shape)\n",
    "    "
   ]
  },
  {
   "cell_type": "markdown",
   "id": "f9128947",
   "metadata": {},
   "source": [
    "## Pretty Print to Console"
   ]
  },
  {
   "cell_type": "code",
   "execution_count": 110,
   "id": "7d824f04",
   "metadata": {},
   "outputs": [],
   "source": [
    "def pretty_print_patient_summary(ground_truth, llm_prediction):\n",
    "    \"\"\"\n",
    "    Print a summary of the patient's information, including the ground truth and LLM prediction.\n",
    "    Args:\n",
    "        ground_truth (str): The ground truth information.\n",
    "        llm_prediction_cot (str): The LLM prediction information.\n",
    "    \"\"\"\n",
    "    # Print a separator line\n",
    "    print(\"=\" * console_width)\n",
    "\n",
    "    # Print the ground truth, centered\n",
    "    ground_truth_text = f\"Ground Truth: {ground_truth}\"\n",
    "    print(ground_truth_text.center(console_width))\n",
    "\n",
    "    # Print another separator line\n",
    "    print(\"=\" * console_width)\n",
    "\n",
    "    # Print the LLM prediction, wrapped to fit the console width\n",
    "    llm_prediction_text = f\"LLM (CoT): {llm_prediction}\"\n",
    "    wrapped_prediction = textwrap.fill(llm_prediction_text, width=console_width)\n",
    "    print(wrapped_prediction)\n",
    "\n",
    "    # Print a final separator line\n",
    "    print(\"=\" * console_width)"
   ]
  },
  {
   "cell_type": "markdown",
   "id": "01931691",
   "metadata": {},
   "source": [
    "## Feature Engineer Patient Ages"
   ]
  },
  {
   "cell_type": "code",
   "execution_count": 98,
   "id": "132b182c",
   "metadata": {},
   "outputs": [],
   "source": [
    "# Function to parse date strings safely\n",
    "def safe_parse_date(date_str):\n",
    "    try:\n",
    "        if pd.isnull(date_str):\n",
    "            return None\n",
    "        return datetime.strptime(str(date_str), \"%Y-%m-%d\")\n",
    "    except Exception:\n",
    "        return None\n",
    "    \n",
    "# Function to calculate age from BIRTHDATE and DEATHDATE\n",
    "def calculate_age(dob, dod=None):\n",
    "    dob_date = safe_parse_date(dob)\n",
    "    dod_date = safe_parse_date(dod) or datetime.today()\n",
    "\n",
    "    if dob_date is None:\n",
    "        return None\n",
    "    \n",
    "    age = (dod_date - dob_date).days // 365\n",
    "    return age\n",
    "\n",
    "# Apply calculate_age function to create \"age\" column\n",
    "patients_df['AGE'] = patients_df.apply(lambda row: calculate_age(row['BIRTHDATE'], row['DEATHDATE']), axis=1)\n",
    "\n",
    "# Filter out rows with age greater than or equal to 120\n",
    "filtered_patients_df = patients_df[patients_df['AGE'] < 120]\n"
   ]
  },
  {
   "cell_type": "markdown",
   "id": "8f553991",
   "metadata": {},
   "source": [
    "## Sanity Check Section"
   ]
  },
  {
   "cell_type": "code",
   "execution_count": null,
   "id": "38dd0e0b",
   "metadata": {},
   "outputs": [],
   "source": [
    "conditions_df.head()"
   ]
  },
  {
   "cell_type": "code",
   "execution_count": null,
   "id": "8fab7615",
   "metadata": {},
   "outputs": [],
   "source": [
    "patients_df.head()"
   ]
  },
  {
   "cell_type": "code",
   "execution_count": null,
   "id": "9145e4ec",
   "metadata": {},
   "outputs": [],
   "source": [
    "encounters_df.head()"
   ]
  },
  {
   "cell_type": "code",
   "execution_count": null,
   "id": "5adff666",
   "metadata": {},
   "outputs": [],
   "source": [
    "# show latest date in STOP column\n",
    "latest_stop_date = pd.to_datetime(encounters_df['STOP'].max())\n",
    "print(\"Latest STOP date:\", latest_stop_date)"
   ]
  },
  {
   "cell_type": "code",
   "execution_count": null,
   "id": "f970225e",
   "metadata": {},
   "outputs": [],
   "source": [
    "medications_df.head()"
   ]
  },
  {
   "cell_type": "markdown",
   "id": "70f397bc",
   "metadata": {},
   "source": [
    "## Define Readmission Risk Rule (Ground Truth)"
   ]
  },
  {
   "cell_type": "code",
   "execution_count": 211,
   "id": "09a17856",
   "metadata": {},
   "outputs": [
    {
     "data": {
      "text/html": [
       "<div>\n",
       "<style scoped>\n",
       "    .dataframe tbody tr th:only-of-type {\n",
       "        vertical-align: middle;\n",
       "    }\n",
       "\n",
       "    .dataframe tbody tr th {\n",
       "        vertical-align: top;\n",
       "    }\n",
       "\n",
       "    .dataframe thead th {\n",
       "        text-align: right;\n",
       "    }\n",
       "</style>\n",
       "<table border=\"1\" class=\"dataframe\">\n",
       "  <thead>\n",
       "    <tr style=\"text-align: right;\">\n",
       "      <th></th>\n",
       "      <th>CHRONIC_COUNT</th>\n",
       "      <th>INPATIENT_COUNT</th>\n",
       "      <th>AGE</th>\n",
       "      <th>RISK_LABEL</th>\n",
       "    </tr>\n",
       "    <tr>\n",
       "      <th>Id</th>\n",
       "      <th></th>\n",
       "      <th></th>\n",
       "      <th></th>\n",
       "      <th></th>\n",
       "    </tr>\n",
       "  </thead>\n",
       "  <tbody>\n",
       "    <tr>\n",
       "      <th>00126cb9-8460-4747-e302-c3609684531e</th>\n",
       "      <td>1.0</td>\n",
       "      <td>0.0</td>\n",
       "      <td>37</td>\n",
       "      <td>Low</td>\n",
       "    </tr>\n",
       "    <tr>\n",
       "      <th>00209bf2-8e4d-06d1-82a4-daad02f25829</th>\n",
       "      <td>2.0</td>\n",
       "      <td>0.0</td>\n",
       "      <td>82</td>\n",
       "      <td>High</td>\n",
       "    </tr>\n",
       "    <tr>\n",
       "      <th>0142b69f-57f0-9a08-4e2d-65a2b77fdea7</th>\n",
       "      <td>2.0</td>\n",
       "      <td>0.0</td>\n",
       "      <td>64</td>\n",
       "      <td>High</td>\n",
       "    </tr>\n",
       "    <tr>\n",
       "      <th>02ceca12-357f-981e-dcf3-3d26d3c1ff82</th>\n",
       "      <td>1.0</td>\n",
       "      <td>0.0</td>\n",
       "      <td>61</td>\n",
       "      <td>Low</td>\n",
       "    </tr>\n",
       "    <tr>\n",
       "      <th>0354da61-b0c8-3469-d3f6-c2fd0f508b7a</th>\n",
       "      <td>1.0</td>\n",
       "      <td>0.0</td>\n",
       "      <td>50</td>\n",
       "      <td>Low</td>\n",
       "    </tr>\n",
       "  </tbody>\n",
       "</table>\n",
       "</div>"
      ],
      "text/plain": [
       "                                      CHRONIC_COUNT  INPATIENT_COUNT  AGE  \\\n",
       "Id                                                                          \n",
       "00126cb9-8460-4747-e302-c3609684531e            1.0              0.0   37   \n",
       "00209bf2-8e4d-06d1-82a4-daad02f25829            2.0              0.0   82   \n",
       "0142b69f-57f0-9a08-4e2d-65a2b77fdea7            2.0              0.0   64   \n",
       "02ceca12-357f-981e-dcf3-3d26d3c1ff82            1.0              0.0   61   \n",
       "0354da61-b0c8-3469-d3f6-c2fd0f508b7a            1.0              0.0   50   \n",
       "\n",
       "                                     RISK_LABEL  \n",
       "Id                                               \n",
       "00126cb9-8460-4747-e302-c3609684531e        Low  \n",
       "00209bf2-8e4d-06d1-82a4-daad02f25829       High  \n",
       "0142b69f-57f0-9a08-4e2d-65a2b77fdea7       High  \n",
       "02ceca12-357f-981e-dcf3-3d26d3c1ff82        Low  \n",
       "0354da61-b0c8-3469-d3f6-c2fd0f508b7a        Low  "
      ]
     },
     "execution_count": 211,
     "metadata": {},
     "output_type": "execute_result"
    }
   ],
   "source": [
    "# Define basic rule:\n",
    "# \"High Risk\" if patient has >=2 chronic conditions AND >=2 inpatient encounters in the past year\n",
    "\n",
    "# Define chronic condition keywords, according to LACE, Charlson, and CMS 30-day readmission measures\n",
    "chronic_conditions = ['Hypertension', 'Diabetes', 'COPD', 'CHF', 'CKD']\n",
    "\n",
    "# Filter for chronic conditions\n",
    "chronic = conditions_df[conditions_df['DESCRIPTION'].isin(chronic_conditions)]\n",
    "\n",
    "# Convert encounter dates\n",
    "encounters_df['START'] = pd.to_datetime(encounters_df['START'], errors='coerce')\n",
    "\n",
    "# Filter for recent inpatient encounters (e.g., in prev year from the most recent visit)\n",
    "recent_date = encounters_df['START'].max() - pd.Timedelta(days=365)\n",
    "recent_inpatient = encounters_df[\n",
    "    (encounters_df['ENCOUNTERCLASS'] == 'inpatient') &\n",
    "    (encounters_df['START'] >= recent_date)\n",
    "]\n",
    "\n",
    "# Count chronic conditions and inpatient encounters per patient\n",
    "chronic_counts = chronic.groupby('PATIENT').size()\n",
    "inpatient_counts = recent_inpatient.groupby('PATIENT').size()\n",
    "\n",
    "# Merge counts and label high risk\n",
    "risk_df = pd.DataFrame({\n",
    "    'CHRONIC_COUNT': chronic_counts,\n",
    "    'INPATIENT_COUNT': inpatient_counts\n",
    "}).fillna(0)\n",
    "\n",
    "# Merge in age from patients_df\n",
    "risk_df = risk_df.merge(\n",
    "    patients_df[['Id', 'AGE']],\n",
    "    left_index=True,\n",
    "    right_on='Id',\n",
    "    how='left'\n",
    ").set_index('Id')\n",
    "\n",
    "risk_df['RISK_LABEL'] = (\n",
    "    (risk_df['CHRONIC_COUNT'] >= 2) |\n",
    "    (risk_df['INPATIENT_COUNT'] >= 3) |\n",
    "    (((risk_df['CHRONIC_COUNT'] + risk_df['INPATIENT_COUNT']) >= 2) & (risk_df['AGE'] >= 65)) |\n",
    "    (risk_df['AGE'] >= 80) \n",
    ").map({True: 'High', False: 'Low'})\n",
    "\n",
    "risk_df.head()\n",
    "    "
   ]
  },
  {
   "cell_type": "markdown",
   "id": "f4afc2f1",
   "metadata": {},
   "source": [
    "## Ollama 3.2 Setup & Query Function Definition"
   ]
  },
  {
   "cell_type": "code",
   "execution_count": 210,
   "id": "784b7b8e",
   "metadata": {},
   "outputs": [],
   "source": [
    "# Set up Ollama endpoint & model\n",
    "OLLAMA_ENDPOINT = 'http://localhost:11434/api/generate'\n",
    "MODEL = 'llama3.2'\n",
    "\n",
    "def get_llm_response(prompt):\n",
    "    # Send request\n",
    "    response = requests.post(\n",
    "        OLLAMA_ENDPOINT,\n",
    "        headers={'Content-Type': 'application/json'},\n",
    "        json={\n",
    "            'model': MODEL,\n",
    "            'prompt': prompt,\n",
    "            'temperature': 0.7, # Adjust the temperature for randomness\n",
    "            'max_tokens': 50, # Adjust the max tokens for the response length\n",
    "            # 'stream:': False # Set to true for streaming responses\n",
    "        }\n",
    "    )\n",
    "    # Collecting data\n",
    "    full_response = \"\"\n",
    "\n",
    "    for line in response.iter_lines():\n",
    "        if line:\n",
    "            try:\n",
    "                partial = json.loads(line.decode('utf-8'))\n",
    "                full_response += partial.get('response', '')\n",
    "            except json.JSONDecodeError as e:\n",
    "                print(\"Error decoding JSON:\", e)\n",
    "\n",
    "    # Print the full response\n",
    "    return full_response"
   ]
  },
  {
   "cell_type": "markdown",
   "id": "4384bcf9",
   "metadata": {},
   "source": [
    "## Test Prompt"
   ]
  },
  {
   "cell_type": "code",
   "execution_count": 102,
   "id": "927947eb",
   "metadata": {},
   "outputs": [
    {
     "name": "stdout",
     "output_type": "stream",
     "text": [
      "Test response: The capital of France is Paris.\n"
     ]
    }
   ],
   "source": [
    "# Define prompt\n",
    "test_prompt = \"What is the capital of France?\"\n",
    "\n",
    "test_response = get_llm_response(test_prompt)\n",
    "print(\"Test response:\", test_response)"
   ]
  },
  {
   "cell_type": "markdown",
   "id": "8ed89f09",
   "metadata": {},
   "source": [
    "### Zero-Shot Prompt"
   ]
  },
  {
   "cell_type": "code",
   "execution_count": 153,
   "id": "b760267f",
   "metadata": {},
   "outputs": [
    {
     "name": "stdout",
     "output_type": "stream",
     "text": [
      "Expected answer: High\n",
      "================================\n",
      "One-time request response: High.\n"
     ]
    }
   ],
   "source": [
    "# Define prompt\n",
    "zero_shot_prompt = \"Decide in a single word if a 72-year old patient who has a chronic condition and has been hospitalized twice in the past year is at high risk for readmission. Answer with 'high' or 'low'. Patient ID: 12345. Chronic conditions: Hypertension, Diabetes. Inpatient encounters: 3. Is this patient high risk or low risk?\"\n",
    "\n",
    "# Print the response\n",
    "print(\"Expected answer: High\")\n",
    "print(\"================================\")\n",
    "\n",
    "# Send request\n",
    "zero_shot_request = get_llm_response(zero_shot_prompt)\n",
    "print(\"One-time request response:\", zero_shot_request)\n"
   ]
  },
  {
   "cell_type": "markdown",
   "id": "77a7f9f3",
   "metadata": {},
   "source": [
    "### One-Shot Prompt"
   ]
  },
  {
   "cell_type": "code",
   "execution_count": 190,
   "id": "f815813b",
   "metadata": {},
   "outputs": [
    {
     "name": "stdout",
     "output_type": "stream",
     "text": [
      "Expected answer: Low\n",
      "================================\n",
      "Zero-time request response: Low.\n"
     ]
    }
   ],
   "source": [
    "# Define prompt\n",
    "one_shot_prompt = f\"\"\"\n",
    "    Decide in a single word if a patient is high risk or low risk for hospital readmission based on the following example.\n",
    "    \n",
    "    Example 1: \n",
    "    - Age: 55 \n",
    "    - Conditions: Asthma \n",
    "    - Medications: Albuterol, Lasix \n",
    "    - Encounters in last year: 2 inpatient \n",
    "    \n",
    "    Answer: Low\n",
    "    \n",
    "    Now classify this patient: \n",
    "    - Age: 59\n",
    "    - Conditions: Hypertension\n",
    "    - Medications: Metformin \n",
    "    - Encounters in last year: 2 inpatient \n",
    "    \n",
    "    Answer:\"\n",
    "\"\"\"\n",
    "\n",
    "# Print expectation\n",
    "print(\"Expected answer: Low\")\n",
    "print(\"================================\")\n",
    "\n",
    "# Send request\n",
    "one_shot_request = get_llm_response(one_shot_prompt)\n",
    "print(\"Zero-time request response:\", one_shot_request)"
   ]
  },
  {
   "cell_type": "markdown",
   "id": "17ab08d9",
   "metadata": {},
   "source": [
    "## Few-Shot Prompt"
   ]
  },
  {
   "cell_type": "code",
   "execution_count": 191,
   "id": "52f34c14",
   "metadata": {},
   "outputs": [
    {
     "name": "stdout",
     "output_type": "stream",
     "text": [
      "Expected answer: High\n",
      "================================\n",
      "Few-shot request response: High.\n"
     ]
    }
   ],
   "source": [
    "# Define prompt\n",
    "few_shot_prompt = f\"\"\"\n",
    "    Decide in a single word if a patient is high risk or low risk for hospital readmission based on the following example.\n",
    "\n",
    "    Example 1: \n",
    "    - Age: 55 \n",
    "    - Conditions: Asthma \n",
    "    - Medications: Albuterol \n",
    "    - Encounters in last year: 0 inpatient \n",
    "    Answer: Low \n",
    "    \n",
    "    Example 2: \n",
    "    - Age: 81 \n",
    "    - Conditions: CHF, Diabetes, Hypertension \n",
    "    - Medications: Metformin, Lisinopril, Lasix \n",
    "    - Encounters in last year: 3 inpatient \n",
    "    Answer: High \n",
    "    \n",
    "    Example 3: \n",
    "    - Age: 43 \n",
    "    - Conditions: Depression \n",
    "    - Medications: Sertraline \n",
    "    - Encounters in last year: 1 outpatient \n",
    "    Answer: Low \n",
    "    \n",
    "    Example 4: \n",
    "    - Age: 73 \n",
    "    - Conditions: Depression \n",
    "    - Medications: Sertraline \n",
    "    - Encounters in last year: 2 outpatient \n",
    "    Answer: High \n",
    "    \n",
    "    Now classify this patient: \n",
    "    - Age: 72 \n",
    "    - Conditions: Hypertension \n",
    "    - Medications: Metformin \n",
    "    - Encounters in last year: 2 inpatient \n",
    "    \n",
    "    Answer:\"\n",
    "\"\"\"\n",
    "\n",
    "# Print expectation\n",
    "print(\"Expected answer: High\")\n",
    "print(\"================================\")\n",
    "\n",
    "# Send request\n",
    "few_shot_request = get_llm_response(few_shot_prompt)\n",
    "print(\"Few-shot request response:\", few_shot_request)"
   ]
  },
  {
   "cell_type": "markdown",
   "id": "4f8ddc1d",
   "metadata": {},
   "source": [
    "## Construct Patient Summaries for LLM Input"
   ]
  },
  {
   "cell_type": "code",
   "execution_count": null,
   "id": "af88514d",
   "metadata": {},
   "outputs": [
    {
     "name": "stdout",
     "output_type": "stream",
     "text": [
      "Patient age: 79\n",
      "    Gender: F\n",
      "    Chronic conditions: None\n",
      "    Number of inpatient hospitalizations in past year: 2\n",
      "    Current medications: Acetaminophen 325 MG Oral Tablet, Alendronic acid 10 MG Oral Tablet, Cyclophosphamide 1000 MG Injection, 5 ML fulvestrant 50 MG/ML Prefilled Syringe, palbociclib 100 MG Oral Capsule\n",
      "================================================================================\n",
      "                               Ground Truth: HIGH                               \n",
      "================================================================================\n",
      "LLM (CoT): Patient age: 79     Gender: F     Chronic conditions: None     Number\n",
      "of inpatient hospitalizations in past year: 2     Current medications:\n",
      "Acetaminophen 325 MG Oral Tablet, Alendronic acid 10 MG Oral Tablet,\n",
      "Cyclophosphamide 1000 MG Injection, 5 ML fulvestrant 50 MG/ML Prefilled Syringe,\n",
      "palbociclib 100 MG Oral Capsule\n",
      "================================================================================\n"
     ]
    }
   ],
   "source": [
    "# Generate a patient profile summary for prompting\n",
    "def generate_summary(patient_id):\n",
    "    demo = patients_df[patients_df['Id'] == patient_id].iloc[0]\n",
    "    chronic = conditions_df[\n",
    "        (conditions_df['PATIENT'] == patient_id) &\n",
    "        (conditions_df['DESCRIPTION'].isin(chronic_conditions))\n",
    "    ]['DESCRIPTION'].tolist()\n",
    "    med_list = medications_df[medications_df['PATIENT'] == patient_id]['DESCRIPTION'].unique().tolist()\n",
    "    encounters_recent = recent_inpatient[recent_inpatient['PATIENT'] == patient_id]\n",
    "    \n",
    "    summary = f\"\"\"\n",
    "    Patient age: {demo['AGE']}\n",
    "    Gender: {demo['GENDER']}\n",
    "    Chronic conditions: {', '.join(chronic) if chronic else 'None'}\n",
    "    Number of inpatient hospitalizations in past year: {len(encounters_recent)}\n",
    "    Current medications: {', '.join(med_list) if med_list else 'None'}\n",
    "    \"\"\"\n",
    "    return summary.strip()\n",
    "\n",
    "# Test it\n",
    "sample_patient_id = risk_df.index[42]\n",
    "sample_patient_summary = generate_summary(sample_patient_id)\n",
    "print(sample_patient_summary)\n",
    "\n",
    "pretty_print_patient_summary(\"HIGH\", sample_patient_summary)\n",
    "    "
   ]
  },
  {
   "cell_type": "markdown",
   "id": "2d61699e",
   "metadata": {},
   "source": [
    "## Chain-of-Thought Prompt"
   ]
  },
  {
   "cell_type": "code",
   "execution_count": 217,
   "id": "82693396",
   "metadata": {},
   "outputs": [
    {
     "name": "stdout",
     "output_type": "stream",
     "text": [
      "Chain-of-Thought Prompt:\n",
      " \n",
      "You are a clinical reasoning model. Based on the following summary, assess whether the patient is at high or low risk of hospital readmission. Think step by step before answering.\n",
      "\n",
      "Patient age: 79\n",
      "    Gender: F\n",
      "    Chronic conditions: None\n",
      "    Number of inpatient hospitalizations in past year: 2\n",
      "    Current medications: Acetaminophen 325 MG Oral Tablet, Alendronic acid 10 MG Oral Tablet, Cyclophosphamide 1000 MG Injection, 5 ML fulvestrant 50 MG/ML Prefilled Syringe, palbociclib 100 MG Oral Capsule\n",
      "\n"
     ]
    }
   ],
   "source": [
    "# CoT prompt for one patient summary\n",
    "summary = generate_summary(sample_patient_id)\n",
    "\n",
    "# Chain-of-Thought Prompt\n",
    "cot_prompt = f\"\"\"\n",
    "You are a clinical reasoning model. Based on the following summary, assess whether the patient is at high or low risk of hospital readmission. Think step by step before answering.\n",
    "\n",
    "{summary}\n",
    "\"\"\"\n",
    "\n",
    "print(\"Chain-of-Thought Prompt:\\n\", cot_prompt)\n",
    "    "
   ]
  },
  {
   "cell_type": "markdown",
   "id": "6656b0c7",
   "metadata": {},
   "source": [
    "## Chain-of-Thought Response"
   ]
  },
  {
   "cell_type": "code",
   "execution_count": 220,
   "id": "0d7fa5d7",
   "metadata": {},
   "outputs": [
    {
     "name": "stdout",
     "output_type": "stream",
     "text": [
      "Ground Truth:  High\n",
      "===============================\n",
      "LLM (CoT): To assess the patient's risk of hospital readmission, I'll consider various factors:\n",
      "\n",
      "1. **Age**: The patient is 79 years old, which is considered elderly. Older adults are more likely to experience complications and have higher rates of readmissions due to comorbidities, functional decline, and polypharmacy.\n",
      "\n",
      "2. **Chronic conditions**: The patient has no listed chronic conditions, which could reduce the risk of hospital readmission. However, it's essential to note that the presence or absence of chronic conditions is just one factor.\n",
      "\n",
      "3. **Number of inpatient hospitalizations in past year**: The patient has had two inpatient hospitalizations in the past year. This indicates a higher risk of hospital readmission due to recent healthcare utilization and potential underlying health issues.\n",
      "\n",
      "4. **Current medications**: The patient is taking multiple medications, including chemotherapy agents (cyclophosphamide and fulvestrant) and hormone therapy (palbociclib). Polypharmacy can increase the risk of adverse effects, interactions, and hospital readmissions. \n",
      "\n",
      "Given these factors, I would categorize this patient as **moderate to high risk** of hospital readmission due to their:\n",
      "\n",
      "* Recent hospitalizations\n",
      "* Elderly age\n",
      "* Presence of complex medications (chemotherapy agents and hormone therapy)\n",
      "\n",
      "However, without more information about the underlying causes of the recent hospitalizations, comorbidities, functional status, or social determinants of health, it's challenging to provide a definitive risk assessment. A comprehensive clinical evaluation would be necessary to determine the patient's specific risk factors and develop targeted interventions to mitigate these risks.\n",
      "================================================================================\n",
      "                               Ground Truth: High                               \n",
      "================================================================================\n",
      "LLM (CoT): To assess the patient's risk of hospital readmission, I'll consider\n",
      "various factors:  1. **Age**: The patient is 79 years old, which is considered\n",
      "elderly. Older adults are more likely to experience complications and have\n",
      "higher rates of readmissions due to comorbidities, functional decline, and\n",
      "polypharmacy.  2. **Chronic conditions**: The patient has no listed chronic\n",
      "conditions, which could reduce the risk of hospital readmission. However, it's\n",
      "essential to note that the presence or absence of chronic conditions is just one\n",
      "factor.  3. **Number of inpatient hospitalizations in past year**: The patient\n",
      "has had two inpatient hospitalizations in the past year. This indicates a higher\n",
      "risk of hospital readmission due to recent healthcare utilization and potential\n",
      "underlying health issues.  4. **Current medications**: The patient is taking\n",
      "multiple medications, including chemotherapy agents (cyclophosphamide and\n",
      "fulvestrant) and hormone therapy (palbociclib). Polypharmacy can increase the\n",
      "risk of adverse effects, interactions, and hospital readmissions.   Given these\n",
      "factors, I would categorize this patient as **moderate to high risk** of\n",
      "hospital readmission due to their:  * Recent hospitalizations * Elderly age *\n",
      "Presence of complex medications (chemotherapy agents and hormone therapy)\n",
      "However, without more information about the underlying causes of the recent\n",
      "hospitalizations, comorbidities, functional status, or social determinants of\n",
      "health, it's challenging to provide a definitive risk assessment. A\n",
      "comprehensive clinical evaluation would be necessary to determine the patient's\n",
      "specific risk factors and develop targeted interventions to mitigate these\n",
      "risks.\n",
      "================================================================================\n"
     ]
    }
   ],
   "source": [
    "# Classify one sample\n",
    "llm_prediction_cot = get_llm_response(cot_prompt)\n",
    "\n",
    "ground_truth = risk_df.loc[sample_patient_id]['RISK_LABEL']\n",
    "print(\"Ground Truth: \", ground_truth)\n",
    "print(\"===============================\")\n",
    "print(\"LLM (CoT):\", llm_prediction_cot)\n",
    "\n",
    "pretty_print_patient_summary(ground_truth, llm_prediction_cot)"
   ]
  },
  {
   "cell_type": "markdown",
   "id": "86a1d981",
   "metadata": {},
   "source": [
    "## Tree-of-Thought Prompt"
   ]
  },
  {
   "cell_type": "code",
   "execution_count": 221,
   "id": "8b3ed37c",
   "metadata": {},
   "outputs": [
    {
     "name": "stdout",
     "output_type": "stream",
     "text": [
      "\n",
      "Tree-of-Thought Prompt:\n",
      " \n",
      "You are a clinical reasoning model that considers multiple reasoning paths before deciding.\n",
      "\n",
      "Patient summary:\n",
      "Patient age: 79\n",
      "    Gender: F\n",
      "    Chronic conditions: None\n",
      "    Number of inpatient hospitalizations in past year: 2\n",
      "    Current medications: Acetaminophen 325 MG Oral Tablet, Alendronic acid 10 MG Oral Tablet, Cyclophosphamide 1000 MG Injection, 5 ML fulvestrant 50 MG/ML Prefilled Syringe, palbociclib 100 MG Oral Capsule\n",
      "\n",
      "Path A: Analyze risk based on age.\n",
      "Path B: Analyze risk based on chronic conditions.\n",
      "Path C: Analyze risk based on hospitalizations.\n",
      "Path D: Analyze risk based on medications or management.\n",
      "\n",
      "Evaluate each path, then make a final decision: is the readmission risk high or low?\n",
      "\n"
     ]
    }
   ],
   "source": [
    "# Tot prompt for one patient summary\n",
    "tot_prompt = f\"\"\"\n",
    "You are a clinical reasoning model that considers multiple reasoning paths before deciding.\n",
    "\n",
    "Patient summary:\n",
    "{summary}\n",
    "\n",
    "Path A: Analyze risk based on age.\n",
    "Path B: Analyze risk based on chronic conditions.\n",
    "Path C: Analyze risk based on hospitalizations.\n",
    "Path D: Analyze risk based on medications or management.\n",
    "\n",
    "Evaluate each path, then make a final decision: is the readmission risk high or low?\n",
    "\"\"\"\n",
    "\n",
    "print(\"\\nTree-of-Thought Prompt:\\n\", tot_prompt)"
   ]
  },
  {
   "cell_type": "markdown",
   "id": "434bf66c",
   "metadata": {},
   "source": [
    "## Tree of thought response"
   ]
  },
  {
   "cell_type": "code",
   "execution_count": 222,
   "id": "bf1838c8",
   "metadata": {},
   "outputs": [
    {
     "name": "stdout",
     "output_type": "stream",
     "text": [
      "Ground Truth:  High\n",
      "===============================\n",
      "LLM (ToT):  To evaluate the readmission risk, I will analyze each of the given paths and consider multiple reasoning paths before making a final decision.\n",
      "\n",
      "**Path A: Age-based analysis**\n",
      "\n",
      "As the patient is 79 years old, age can be considered as a significant factor in predicting readmission. Older adults are more susceptible to hospital readmissions due to declining physical function, comorbidities, and polypharmacy (multiple medications). However, without further information about the patient's functional status, cognitive abilities, or specific medical conditions, it is difficult to assign a high or low risk based solely on age.\n",
      "\n",
      "**Path B: Chronic condition analysis**\n",
      "\n",
      "The patient has no chronic conditions listed in the summary. The absence of chronic conditions may indicate that the patient's overall health status is relatively stable, which could contribute to a lower readmission risk. However, this analysis assumes that the absence of chronic conditions means there are no underlying health issues.\n",
      "\n",
      "**Path C: Hospitalization frequency analysis**\n",
      "\n",
      "The patient has had two inpatient hospitalizations in the past year, indicating a higher likelihood of future hospitalizations due to their medical needs or unmanaged chronic conditions. This path suggests a moderate to high readmission risk.\n",
      "\n",
      "**Path D: Medication and management analysis**\n",
      "\n",
      "The patient is taking several medications, including cyclophosphamide (a chemotherapeutic agent), palbociclib (an anti-estrogen medication), and fulvestrant (an estrogen receptor antagonist). These medications can have significant side effects, interactions, or toxicities that may contribute to readmission. The fact that the patient is taking multiple injections and oral tablets also suggests potential challenges with medication management.\n",
      "\n",
      "**Final Decision**\n",
      "\n",
      "Considering all the paths, I conclude that the readmission risk is **moderate**. While there are factors that suggest a moderate risk (e.g., Path C: hospitalization frequency, Path D: complex medication regimen), there are also mitigating factors (e.g., absence of chronic conditions, Path B). Without further information about the patient's medical history, functional status, and social determinants, it is challenging to definitively classify the readmission risk as high or low.\n",
      "\n",
      "Recommendations:\n",
      "\n",
      "1. Regular follow-up appointments with the healthcare provider to monitor medication side effects and adjust treatment plans accordingly.\n",
      "2. Encourage the patient to report any changes in their symptoms, medications, or hospitalizations promptly.\n",
      "3. Consider referring the patient to a geriatrician or a specialist for comprehensive care, if possible.\n",
      "\n",
      "By considering multiple reasoning paths and evaluating each factor carefully, we can make an informed decision about the readmission risk while acknowledging the complexity of this case.\n",
      "================================================================================\n",
      "                               Ground Truth: High                               \n",
      "================================================================================\n",
      "LLM (CoT): To evaluate the readmission risk, I will analyze each of the given\n",
      "paths and consider multiple reasoning paths before making a final decision.\n",
      "**Path A: Age-based analysis**  As the patient is 79 years old, age can be\n",
      "considered as a significant factor in predicting readmission. Older adults are\n",
      "more susceptible to hospital readmissions due to declining physical function,\n",
      "comorbidities, and polypharmacy (multiple medications). However, without further\n",
      "information about the patient's functional status, cognitive abilities, or\n",
      "specific medical conditions, it is difficult to assign a high or low risk based\n",
      "solely on age.  **Path B: Chronic condition analysis**  The patient has no\n",
      "chronic conditions listed in the summary. The absence of chronic conditions may\n",
      "indicate that the patient's overall health status is relatively stable, which\n",
      "could contribute to a lower readmission risk. However, this analysis assumes\n",
      "that the absence of chronic conditions means there are no underlying health\n",
      "issues.  **Path C: Hospitalization frequency analysis**  The patient has had two\n",
      "inpatient hospitalizations in the past year, indicating a higher likelihood of\n",
      "future hospitalizations due to their medical needs or unmanaged chronic\n",
      "conditions. This path suggests a moderate to high readmission risk.  **Path D:\n",
      "Medication and management analysis**  The patient is taking several medications,\n",
      "including cyclophosphamide (a chemotherapeutic agent), palbociclib (an anti-\n",
      "estrogen medication), and fulvestrant (an estrogen receptor antagonist). These\n",
      "medications can have significant side effects, interactions, or toxicities that\n",
      "may contribute to readmission. The fact that the patient is taking multiple\n",
      "injections and oral tablets also suggests potential challenges with medication\n",
      "management.  **Final Decision**  Considering all the paths, I conclude that the\n",
      "readmission risk is **moderate**. While there are factors that suggest a\n",
      "moderate risk (e.g., Path C: hospitalization frequency, Path D: complex\n",
      "medication regimen), there are also mitigating factors (e.g., absence of chronic\n",
      "conditions, Path B). Without further information about the patient's medical\n",
      "history, functional status, and social determinants, it is challenging to\n",
      "definitively classify the readmission risk as high or low.  Recommendations:  1.\n",
      "Regular follow-up appointments with the healthcare provider to monitor\n",
      "medication side effects and adjust treatment plans accordingly. 2. Encourage the\n",
      "patient to report any changes in their symptoms, medications, or\n",
      "hospitalizations promptly. 3. Consider referring the patient to a geriatrician\n",
      "or a specialist for comprehensive care, if possible.  By considering multiple\n",
      "reasoning paths and evaluating each factor carefully, we can make an informed\n",
      "decision about the readmission risk while acknowledging the complexity of this\n",
      "case.\n",
      "================================================================================\n"
     ]
    }
   ],
   "source": [
    "# Classify one sample\n",
    "llm_prediction_tot = get_llm_response(tot_prompt)\n",
    "\n",
    "ground_truth = risk_df.loc[sample_patient_id]['RISK_LABEL']\n",
    "print(\"Ground Truth: \", ground_truth)\n",
    "print(\"===============================\")\n",
    "print(\"LLM (ToT): \", llm_prediction_tot)\n",
    "\n",
    "pretty_print_patient_summary(ground_truth, llm_prediction_tot)"
   ]
  },
  {
   "cell_type": "code",
   "execution_count": null,
   "id": "e058c409",
   "metadata": {},
   "outputs": [],
   "source": [
    "# Define prompt\n",
    "test_prompt = \"What is the capital of France?\"\n",
    "\n",
    "# Send request\n",
    "def generate_request(prompt):\n",
    "    request = requests.post(\n",
    "        OLLAMA_ENDPOINT,\n",
    "        headers={'Content-Type': 'application/json'},\n",
    "        json={\n",
    "            'model': MODEL,\n",
    "            'prompt': prompt,\n",
    "            'temperature': 0.7, # Adjust the temperature for randomness\n",
    "            'max_tokens': 50, # Adjust the max tokens for the response length\n",
    "            # 'stream:': False # Set to true for streaming responses\n",
    "        }\n",
    "    )\n",
    "    return request\n",
    "\n",
    "print(generate_request(test_prompt))\n",
    "\n",
    "test_request = generate_request(test_prompt)\n",
    "\n",
    "# Get response\n",
    "def formatted_response(response):\n",
    "    raw_response = response.text\n",
    "    json_objects = raw_response.splitlines()  # Split by lines if JSON objects are newline-separated\n",
    "\n",
    "    for obj in json_objects:\n",
    "        try:\n",
    "            data = json.loads(obj)  # Parse each JSON object\n",
    "            print(\"Parsed JSON:\", data)\n",
    "        except json.JSONDecodeError as e:\n",
    "            print(\"Error decoding JSON:\", e)\n",
    "            \n",
    "    # Collecting data\n",
    "    full_response = \"\"\n",
    "\n",
    "    for line in response.iter_lines():\n",
    "        if line:\n",
    "            try:\n",
    "                partial = json.loads(line.decode('utf-8'))\n",
    "                full_response += partial.get('response', '')\n",
    "            except json.JSONDecodeError as e:\n",
    "                print(\"Error decoding JSON:\", e)\n",
    "    return full_response\n",
    "                \n",
    "test_response = formatted_response(test_request)\n",
    "\n",
    "# Print the full response\n",
    "print(\"================================\")\n",
    "print(\"Answer:\")\n",
    "print(test_response)"
   ]
  }
 ],
 "metadata": {
  "kernelspec": {
   "display_name": "my_env",
   "language": "python",
   "name": "python3"
  },
  "language_info": {
   "codemirror_mode": {
    "name": "ipython",
    "version": 3
   },
   "file_extension": ".py",
   "mimetype": "text/x-python",
   "name": "python",
   "nbconvert_exporter": "python",
   "pygments_lexer": "ipython3",
   "version": "3.11.8"
  }
 },
 "nbformat": 4,
 "nbformat_minor": 5
}
